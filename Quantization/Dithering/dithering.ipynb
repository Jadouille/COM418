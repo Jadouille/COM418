{
 "cells": [
  {
   "cell_type": "markdown",
   "metadata": {
    "slideshow": {
     "slide_type": "slide"
    }
   },
   "source": [
    "<div align=\"right\"><i>COM418 - Computers and Music</i></div>\n",
    "<div align=\"right\">Mihailo Kolundzija, <a href=\"https://people.epfl.ch/paolo.prandoni\">Paolo Prandoni</a>, Lucie Perrotta, <a href=\"https://www.epfl.ch/labs/lcav/\">LCAV, EPFL</a></div>\n",
    "\n",
    "<p style=\"font-size: 30pt; font-weight: bold; color: #B51F1F;\">Dithering and Noise Shaping</p>"
   ]
  },
  {
   "cell_type": "code",
   "execution_count": 1,
   "metadata": {
    "slideshow": {
     "slide_type": "skip"
    }
   },
   "outputs": [],
   "source": [
    "import numpy as np\n",
    "import matplotlib.pyplot as plt\n",
    "import scipy.linalg as spla\n",
    "import scipy.signal as signal\n",
    "import IPython.display as ipd\n",
    "import ipywidgets as ipw\n",
    "import scipy.io.wavfile as wavfile\n",
    "from stft_helpers import stft_window, stft\n",
    "\n",
    "%matplotlib inline"
   ]
  },
  {
   "cell_type": "code",
   "execution_count": 2,
   "metadata": {},
   "outputs": [],
   "source": [
    "plt.rcParams[\"figure.figsize\"] = (14,4)"
   ]
  },
  {
   "cell_type": "code",
   "execution_count": 3,
   "metadata": {
    "slideshow": {
     "slide_type": "skip"
    }
   },
   "outputs": [],
   "source": [
    "def multiplay(SF, clips, title=None, volume=1):\n",
    "    outs = [ipw.Output() for c in clips]\n",
    "    for ix, clip in enumerate(clips):\n",
    "        with outs[ix]:\n",
    "            print(title[ix] if title is not None else \"\")\n",
    "            display(ipd.Audio(volume * clip, rate=SF, normalize=False))\n",
    "    return ipw.HBox(outs)"
   ]
  },
  {
   "cell_type": "markdown",
   "metadata": {
    "slideshow": {
     "slide_type": "slide"
    }
   },
   "source": [
    "# Quantization recap\n"
   ]
  },
  {
   "cell_type": "markdown",
   "metadata": {
    "slideshow": {
     "slide_type": "slide"
    }
   },
   "source": [
    "## Uniform scalar quantization\n",
    "\n",
    " * $M$-level uniform scalar quantizer: $q: \\mathbb{R} \\rightarrow \\{\\hat{x}_0, \\ldots, \\hat{x}_{M-1}\\}$\n",
    " * non-overload region: $[-1,1]$\n",
    " * quantization step: $\\Delta = 2/M$ \n",
    " * usually $M = 2^R$; quantization with $R$ bits per sample\n",
    "\n",
    "\n",
    "Uniform quantizer types:\n",
    " * **Mid-tread** (deadzone): $\\displaystyle\\quad q(x) = \\left\\lfloor \\frac{x + 0.5}{\\Delta} \\right\\rfloor $\n",
    " * **Mid-rise**: $\\displaystyle\\quad q(x) = \\left\\lfloor \\frac{x}{\\Delta} \\right\\rfloor + \\frac{\\Delta}{2} $\n"
   ]
  },
  {
   "cell_type": "code",
   "execution_count": 4,
   "metadata": {},
   "outputs": [],
   "source": [
    "def quantize(x, M):\n",
    "    if M == 0:\n",
    "        return x\n",
    "    elif M % 2 == 0:\n",
    "        # using a mid-rise quantizer\n",
    "        M = M / 2\n",
    "        k = np.floor(x * M)\n",
    "        k = np.maximum(np.minimum(k, M-1), -M)\n",
    "        return (k + 0.5) / M\n",
    "    else:\n",
    "        # using a deadzone quantizer\n",
    "        k = np.round(np.abs(x) * M / 2)\n",
    "        k = np.minimum((M - 1) / 2, k)\n",
    "        return (np.sign(x) * k / M * 2 )"
   ]
  },
  {
   "cell_type": "code",
   "execution_count": 5,
   "metadata": {
    "slideshow": {
     "slide_type": "slide"
    }
   },
   "outputs": [
    {
     "data": {
      "image/png": "[encoded data removed]",
      "text/plain": [
       "<Figure size 1008x288 with 3 Axes>"
      ]
     },
     "metadata": {
      "needs_background": "light"
     },
     "output_type": "display_data"
    }
   ],
   "source": [
    "x = np.arange(-1, 1, .01)\n",
    "for ix, M in enumerate([2, 3, 8]):\n",
    "    plt.subplot(1, 3, ix+1)\n",
    "    plt.plot(x,x);    \n",
    "    plt.plot(x, quantize(x, M), '.');"
   ]
  },
  {
   "cell_type": "markdown",
   "metadata": {
    "slideshow": {
     "slide_type": "slide"
    }
   },
   "source": [
    "## Conventional quantization theory\n",
    " \n",
    "Quantization is a lossy operation:\n",
    " - **Quantization error** $e[n] = q(x[n]) - x[n]$\n",
    " - $e[n]$ **uniformly distributed random variable** over $[-\\Delta/2,\\Delta/2)$, independent of input\n",
    " - $e$ a **white noise process** with zero mean and variance $\\sigma_e^2 = \\Delta^2/12$"
   ]
  },
  {
   "cell_type": "markdown",
   "metadata": {
    "slideshow": {
     "slide_type": "slide"
    }
   },
   "source": [
    "Signal-to-Noise Ratio (SNR):\n",
    " - if input iid and uniform over non-overload region: $\\text{SNR} = 6.02 R ~\\text{dB}$\n",
    " - if input full-range sinusoid: $\\text{SNR} = 6.02 b + 1.76 ~\\text{dB}$\n",
    " - every bit increases SNR by 6 dB"
   ]
  },
  {
   "cell_type": "markdown",
   "metadata": {
    "slideshow": {
     "slide_type": "slide"
    }
   },
   "source": [
    "## The truth: quantization causes _distortion_ not noise\n",
    "\n",
    " * classical model useful as a guideline but fails in many cases (Tsividis paradox)\n",
    " * harmonic and non-harmonic distortion much more disruptive than noise"
   ]
  },
  {
   "cell_type": "markdown",
   "metadata": {
    "slideshow": {
     "slide_type": "slide"
    }
   },
   "source": [
    "## Quantization distortion demo"
   ]
  },
  {
   "cell_type": "code",
   "execution_count": 6,
   "metadata": {
    "jupyter": {
     "source_hidden": true
    },
    "slideshow": {
     "slide_type": "skip"
    },
    "tags": []
   },
   "outputs": [],
   "source": [
    "# The influence of the number of quantization steps on the quantization error.\n",
    "\n",
    "# Sampling frequency in Hz.\n",
    "fs = 44100\n",
    "# Signal duration in seconds.\n",
    "duration = 5\n",
    "\n",
    "# Number of samples for which we plot the time-domain signals.\n",
    "nt = 600\n",
    "# Regularization constant to avoid taking a log of zero.\n",
    "mu = 1e-6\n",
    "\n",
    "# Define the widgets to control the demo parameters.\n",
    "win_type_dd_1 = ipw.Dropdown(options=['rect', 'hanning', 'hamming'],\n",
    "                           value='hanning', description='Window type',\n",
    "                           disabled=False)\n",
    "\n",
    "fft_size_dd_1 = ipw.Dropdown(options=[256, 512, 1024, 2048, 4096, 8192, 16384],\n",
    "                           value=4096, description='FFT size',\n",
    "                           disabled=False)\n",
    "\n",
    "a_db_fs_1 = ipw.FloatSlider(\n",
    "    min=-96, max=0, step=-3, value=-6, description='$a$ [dB]')\n",
    "f_fs_1 = ipw.FloatSlider(\n",
    "    min=100, max=5000, step=10, value=440, description='$f_0$')\n",
    "nbits_is_1 = ipw.IntSlider(\n",
    "    min=1, max=24, step=1, value=10, description='$n_{\\it bits}$')\n",
    "\n",
    "demo_out_1 = ipw.Output()\n",
    "\n",
    "default_layout = ipw.Layout(\n",
    "    border='solid 1px black',\n",
    "    margin='0px 10px 10px 0px',\n",
    "    padding='5px 5px 5px 5px')\n",
    "\n",
    "def update_no_dither(a, f, nbits, win_type='rect', fft_size=4096):\n",
    "    t = np.arange(0, duration, 1/fs)\n",
    "    x = a * np.sin(2 * np.pi * f * t + 1)\n",
    "    step_size = 2 / 2**nbits\n",
    "    \n",
    "    # Prepare the windowing function.\n",
    "    win = stft_window(fft_size, fft_size, win_type=win_type)\n",
    "    # Work with a 50% overlap.\n",
    "    hop_size = fft_size // 2\n",
    "    \n",
    "    y = quantize(x, 2**nbits)\n",
    "    e = x - y\n",
    "    \n",
    "    # Create ideal noise power reference.\n",
    "    noise_ref = (np.random.random(len(t)) - 0.5) * step_size \n",
    "    \n",
    "    # Compute the spectra of y and e by averaging the STFT magnitude.\n",
    "    _, f_n, Y_s = stft(y, win, hop_size)\n",
    "    _, _, E_s = stft(e, win, hop_size)\n",
    "    _, _, R_s = stft(noise_ref, win, hop_size)\n",
    "    Y = np.mean(np.abs(Y_s), axis=1)\n",
    "    E = np.mean(np.abs(E_s), axis=1)\n",
    "    R = np.mean(np.abs(R_s), axis=1)\n",
    "    # Convert normalized to absolute frequencies.\n",
    "    freqs = f_n * fs\n",
    "    \n",
    "    e_mean = np.mean(e)\n",
    "    \n",
    "    e_pow_theory = step_size**2 / 12\n",
    "    e_pow = np.mean(e**2)\n",
    "    x_pow = np.mean(x**2)\n",
    "\n",
    "    snr_theory = 20 * np.log10(2) * nbits + 10 * np.log10(1.5) + 20 * np.log10(a)\n",
    "    snr = 10 * np.log10(x_pow / e_pow) \n",
    "    \n",
    "    # Extreme value for plotted vertical lines giving harmonics.\n",
    "    Y_max = 20 * np.log10(np.max(np.abs(Y)))\n",
    "    Y_min = 20 * np.log10(np.min(np.abs(Y)) + mu)\n",
    "    E_max = 20 * np.log10(np.max(np.abs(E)))\n",
    "    E_min = 20 * np.log10(np.min(np.abs(E)) + mu)\n",
    "    R_max = 20 * np.log10(np.max(np.abs(R)))\n",
    "    R_min = 20 * np.log10(np.min(np.abs(R)) + mu)\n",
    "    # Since we're plotting the theoretical noise PSD, account for it.\n",
    "    Y_max = np.maximum(Y_max, R_max)\n",
    "    Y_min = np.minimum(Y_min, R_min)\n",
    "    E_max = np.maximum(E_max, R_max)\n",
    "    E_min = np.minimum(E_min, R_min)\n",
    "    \n",
    "    # Harmonics of the sinusoidal signal to show on plot.\n",
    "    harmonics = np.arange(f, fs/2, f)\n",
    "    \n",
    "    out_text_0 = ipw.Output()\n",
    "    out_text_0.layout = default_layout\n",
    "    out_text_1 = ipw.Output()\n",
    "    out_text_1.layout = default_layout\n",
    "    \n",
    "    with out_text_0:\n",
    "        print('Quantization step size:            {:.4E}'.format(step_size))\n",
    "        print('Quantization error power (theory): {:.4E}'.format(e_pow_theory))\n",
    "        print('Quantization error power:          {:.4E}'.format(e_pow))\n",
    "    with out_text_1:\n",
    "        print('SNR (theory): {:.4f} dB'.format(snr_theory))\n",
    "        print('SNR:          {:.4f} dB'.format(snr))\n",
    "        \n",
    "    audio_out_0 = ipw.Output()\n",
    "    audio_out_1 = ipw.Output()\n",
    "    audio_out_2 = ipw.Output()\n",
    "    \n",
    "    with audio_out_0:\n",
    "        print('Original')\n",
    "        display(ipd.Audio(data=np.clip(x, -1, 1), rate=fs, normalize=False))\n",
    "    with audio_out_1:\n",
    "        print('Quantized')\n",
    "        display(ipd.Audio(data=np.clip(y, -1, 1), rate=fs, normalize=False))\n",
    "    with audio_out_2:\n",
    "        print('Quantization error')\n",
    "        display(ipd.Audio(data=np.clip(e, -1, 1), rate=fs, normalize=False))\n",
    "    \n",
    "    text_group = ipw.HBox([out_text_0, out_text_1])\n",
    "    audio_group = ipw.HBox([audio_out_0, audio_out_1, audio_out_2])\n",
    "    audio_group.layout = default_layout\n",
    "    \n",
    "    demo_out_1.clear_output()\n",
    "    \n",
    "    figure_out = ipw.Output()\n",
    "    figure_out.layout = default_layout\n",
    "    with figure_out:\n",
    "        plt.figure(figsize=(15, 6))\n",
    "\n",
    "        plt.subplot(2, 2, 1)\n",
    "        plt.plot(t[:nt], y[:nt], color='b')\n",
    "        plt.xlabel('t [s]')\n",
    "        plt.title('Quantizer output $y$')\n",
    "        plt.grid()\n",
    "\n",
    "        plt.subplot(2, 2, 3)\n",
    "        plt.plot(t[:nt], e[:nt], color='b')\n",
    "        plt.xlabel('t [s]')\n",
    "        plt.title('Quantization error $e$')\n",
    "        plt.grid()\n",
    "\n",
    "        plt.subplot(2, 2, 2)\n",
    "        plt.vlines(harmonics, Y_min, Y_max, label='$f_0$ harmonics', \n",
    "                   colors='yellow', linestyles='dashed')\n",
    "        plt.plot(freqs, 20 * np.log10(np.abs(Y)+mu), \n",
    "                 color='b', label='$Y(f)$')\n",
    "        plt.plot(freqs, 20 * np.log10(np.abs(R)+mu), \n",
    "                 color='red', label='$Ref. noise PSD$')\n",
    "        plt.xlabel('f [Hz]')\n",
    "        plt.title('Spectrum $Y(f)$ of the quantized signal')\n",
    "        plt.legend()\n",
    "        plt.grid()\n",
    "\n",
    "        plt.subplot(2, 2, 4)\n",
    "        plt.vlines(harmonics, E_min, E_max, label='$f_0$ harmonics', \n",
    "                   color='yellow', linestyles='dashed')\n",
    "        plt.plot(freqs, 20 * np.log10(np.abs(E)+mu), \n",
    "                 color='b', label='$E(f)$')\n",
    "        plt.plot(freqs, 20 * np.log10(np.abs(R)+mu), \n",
    "                 color='red', label='$Ref. noise PSD$')\n",
    "        plt.xlabel('f [Hz]')\n",
    "        plt.title('Spectrum $E(f)$ of the quantization error')\n",
    "        plt.legend()\n",
    "        plt.grid()\n",
    "\n",
    "        plt.tight_layout()\n",
    "\n",
    "        plt.show()\n",
    "    \n",
    "    with demo_out_1:\n",
    "        display(text_group)\n",
    "        display(audio_group)\n",
    "        display(figure_out)\n",
    "        \n",
    "def click_no_dither(change):\n",
    "    update_no_dither(a=10**(a_db_fs_1.value/20),\n",
    "                     f=f_fs_1.value,\n",
    "                     nbits=nbits_is_1.value,\n",
    "                     win_type=win_type_dd_1.value, \n",
    "                     fft_size=fft_size_dd_1.value)\n",
    "\n",
    "# Group widgets to have the desired looks.\n",
    "sliders_1 = ipw.HBox([a_db_fs_1, f_fs_1, nbits_is_1])\n",
    "sliders_1.layout = default_layout\n",
    "dropdowns_1 = ipw.HBox([win_type_dd_1, fft_size_dd_1])\n",
    "dropdowns_1.layout = default_layout\n",
    "controls_1 = ipw.VBox([sliders_1, dropdowns_1])\n",
    "controls_1.layout = default_layout\n",
    "run_button_1 = ipw.Button(description='Run')\n",
    "run_button_1.on_click(click_no_dither)"
   ]
  },
  {
   "cell_type": "code",
   "execution_count": 7,
   "metadata": {
    "slideshow": {
     "slide_type": "-"
    }
   },
   "outputs": [
    {
     "data": {
      "application/vnd.jupyter.widget-view+json": {
       "model_id": "4c2284b12cc5478188704bc2abf11d44",
       "version_major": 2,
       "version_minor": 0
      },
      "text/plain": [
       "VBox(children=(VBox(children=(HBox(children=(FloatSlider(value=-6.0, description='$a$ [dB]', max=0.0, min=-96.…"
      ]
     },
     "metadata": {},
     "output_type": "display_data"
    }
   ],
   "source": [
    "display(ipw.VBox([controls_1, run_button_1, demo_out_1]))\n",
    "click_no_dither(None)"
   ]
  },
  {
   "cell_type": "markdown",
   "metadata": {},
   "source": [
    "# Dithering\n",
    "\n",
    "<img width=\"600\" style=\"float: right;\" src=\"img/mark1.jpg\">\n",
    "\n",
    "During WWII, mecahnical computers were used for navigation and targeting. \n",
    "\n",
    "They appeared to be more precise when operated in flying aircraft.\n",
    "\n",
    "The vibrations smmothed out the motion of the mechanical gears and improved the results.\n",
    "\n",
    "Vibration units (dithering) were thus built into the machines themselves"
   ]
  },
  {
   "cell_type": "markdown",
   "metadata": {
    "slideshow": {
     "slide_type": "slide"
    }
   },
   "source": [
    "## Dithered quantization\n",
    "\n",
    "Main idea:\n",
    " * add noise to the quantization process to make the error look like noise\n",
    " * price to pay: a lower SNR\n",
    " * hoped-for gain: trade distortion for noise"
   ]
  },
  {
   "cell_type": "markdown",
   "metadata": {
    "slideshow": {
     "slide_type": "slide"
    }
   },
   "source": [
    "Two types of dithering:\n",
    "\n",
    "<img src=\"img/quantizer_dither.png\" width=800>"
   ]
  },
  {
   "cell_type": "markdown",
   "metadata": {
    "slideshow": {
     "slide_type": "slide"
    }
   },
   "source": [
    "## Subtractively dithered quantizers\n",
    "\n",
    " - Add dither $\\nu$ prior to quantization, remove exact same $\\nu$ at decoder\n",
    " - Decoder must be able to reproduce the same dither: clearly impractical\n",
    "\n",
    "Of theoretical interest nonetheless:\n",
    " * dither samples drawn from $\\mathcal{U}\\left(-\\Delta/2,\\Delta/2 \\right)$ make the error white and independent of input\n",
    " * $\\sigma_e^2 = \\Delta^2/12$, as in the idealized case"
   ]
  },
  {
   "cell_type": "markdown",
   "metadata": {
    "slideshow": {
     "slide_type": "slide"
    }
   },
   "source": [
    "## Non-subtractively dithered quantizers\n",
    "<img width=\"300\" style=\"float: right;\" src=\"img/tpdf.png\">\n",
    "\n",
    " * dither is **not** subtracted at the decoder, which lowers the SNR\n",
    " * error can **not** be made independent of input\n",
    " \n",
    "  \n",
    "Fundamental result: if dither is drawn from a triangular PDF (TPDF) over $[-\\Delta,\\Delta)$:\n",
    " * error is zero-mean\n",
    " * $\\sigma_e^2 = \\Delta^2/4$, **independent** of $x$\n",
    " * $e[n]$ is not iid but it is a **white process**\n",
    " \n",
    "Sadly, proof is very technical; see [here](http://robertwannamaker.com/writings/ieee.pdf) for details."
   ]
  },
  {
   "cell_type": "markdown",
   "metadata": {},
   "source": [
    "### Non-iid white noise?\n",
    "\n",
    "A white noise process $\\eta[n]$ is characterized by\n",
    " * $\\mathrm{E}[\\eta[n]] = 0$ \n",
    " * $\\mathrm{E}[\\eta[n]\\eta[m]] = \\delta[n-m] \\sigma_\\eta^2$ \n",
    " \n",
    "Zero correlation implies there is no _linear_ relationship between samples, but nonlinear dependencies may exist"
   ]
  },
  {
   "cell_type": "markdown",
   "metadata": {},
   "source": [
    "Example: two fair coins, A and B\n",
    " * toss coins A and B\n",
    " * if coin A at _previous_ step was heads, output zero\n",
    " * else \n",
    "   * if A is tails, output zero\n",
    "   * else \n",
    "     * if B is heads output 1, else -1 \n",
    "     \n",
    "The process can be modeled as $z[n] = y[n]x[n](1 - x[n-1])$ where $x[n] \\sim \\text{Bernoulli}(0.5)$ and $y[n] \\sim \\text{Rademacher}$, independent."
   ]
  },
  {
   "cell_type": "code",
   "execution_count": 8,
   "metadata": {},
   "outputs": [
    {
     "data": {
      "image/png": "[encoded data removed]",
      "text/plain": [
       "<Figure size 1008x288 with 1 Axes>"
      ]
     },
     "metadata": {
      "needs_background": "light"
     },
     "output_type": "display_data"
    }
   ],
   "source": [
    "def toy_noise(N):\n",
    "    x = np.round(np.random.random(N))\n",
    "    y = 2 * (np.round(np.random.random(N)) - .5)\n",
    "    return x * (1 - np.roll(x, -1)) * y\n",
    "\n",
    "N, M = 300, 3000\n",
    "# plot DFT of single realization for reference\n",
    "psd = np.abs(np.fft.fft(toy_noise(N))) ** 2\n",
    "plt.plot(psd, ':')\n",
    "# now average a few realizations for the PSD\n",
    "for n in range(1, M):\n",
    "    psd = psd + np.abs(np.fft.fft(toy_noise(N))) ** 2\n",
    "plt.plot(psd / M);"
   ]
  },
  {
   "cell_type": "markdown",
   "metadata": {},
   "source": [
    "**Exercise:** prove that the process is not iid but that the spectrum is white"
   ]
  },
  {
   "cell_type": "markdown",
   "metadata": {
    "tags": []
   },
   "source": [
    "### How to generate a triangular pdf\n",
    "\n",
    "Remember that the pdf of the sum of two r.v. is the convolution of the pdf's."
   ]
  },
  {
   "cell_type": "code",
   "execution_count": 9,
   "metadata": {},
   "outputs": [],
   "source": [
    "def tpdf(levels, n):\n",
    "    a = (np.random.random(n) - 0.5) * (2 / levels)\n",
    "    b = (np.random.random(n) - 0.5) * (2 / levels)\n",
    "    return a + b"
   ]
  },
  {
   "cell_type": "code",
   "execution_count": 10,
   "metadata": {
    "tags": []
   },
   "outputs": [
    {
     "data": {
      "image/png": "[encoded data removed]",
      "text/plain": [
       "<Figure size 1008x288 with 1 Axes>"
      ]
     },
     "metadata": {
      "needs_background": "light"
     },
     "output_type": "display_data"
    }
   ],
   "source": [
    "plt.hist(tpdf(2, 1000000), bins=51, density=True);"
   ]
  },
  {
   "cell_type": "markdown",
   "metadata": {
    "slideshow": {
     "slide_type": "slide"
    }
   },
   "source": [
    "## Dithered quantization demo"
   ]
  },
  {
   "cell_type": "code",
   "execution_count": 11,
   "metadata": {
    "jupyter": {
     "source_hidden": true
    },
    "slideshow": {
     "slide_type": "skip"
    },
    "tags": []
   },
   "outputs": [],
   "source": [
    "# What happens when we add the subtractive dither into the picture.\n",
    "\n",
    "# Sampling frequency in Hz.\n",
    "fs = 44100\n",
    "# Signal duration in seconds.\n",
    "duration = 4\n",
    "\n",
    "# Number of samples for which we plot the time-domain signals.\n",
    "nt = 600\n",
    "# Regularization constant to avoid taking a log of zero.\n",
    "mu = 1e-6\n",
    "\n",
    "# Define the widgets to control the demo parameters.\n",
    "dither_opt_dd_2 = ipw.Dropdown(\n",
    "    options=['no', 'subtractive', 'non-subtractive'],\n",
    "    value='no', description='Dither: ', disabled=False)\n",
    "\n",
    "win_type_dd_2 = ipw.Dropdown(\n",
    "    options=['rect', 'hanning', 'hamming'],\n",
    "    value='hanning', description='Window type',\n",
    "    disabled=False)\n",
    "\n",
    "fft_size_dd_2 = ipw.Dropdown(\n",
    "    options=[256, 512, 1024, 2048, 4096, 8192, 16384],\n",
    "    value=4096, description='FFT size',\n",
    "    disabled=False)\n",
    "\n",
    "a_fs_2 = ipw.FloatSlider(\n",
    "    min=0, max=1, step=0.001, value=0.5, description='$a$')\n",
    "f_fs_2 = ipw.FloatSlider(\n",
    "    min=100, max=5000, step=10, value=440, description='$f_0$')\n",
    "nbits_is_2 = ipw.IntSlider(\n",
    "    min=1, max=24, step=1, value=10, description='$n_{\\it bits}$')\n",
    "\n",
    "demo_out_2 = ipw.Output()\n",
    "\n",
    "default_layout = ipw.Layout(\n",
    "    border='solid 1px black',\n",
    "    margin='0px 10px 10px 0px',\n",
    "    padding='5px 5px 5px 5px')\n",
    "\n",
    "def update_dither(\n",
    "    a, f, nbits, \n",
    "    dither_opt='no', \n",
    "    win_type='rect', fft_size=4096):\n",
    "    \n",
    "    t = np.arange(0, duration, 1/fs)\n",
    "    x = a * np.sin(2 * np.pi * f * t + 1)\n",
    "    levels = 2 ** nbits\n",
    "    step_size = 2 / levels\n",
    "    \n",
    "    # Prepare the windowing function.\n",
    "    win = stft_window(fft_size, fft_size, win_type=win_type)\n",
    "    # Work with a 50% overlap.\n",
    "    hop_size = fft_size // 2\n",
    "    \n",
    "    d = tpdf(levels, len(t))\n",
    "    snr_reduction = 10 * np.log10(3)\n",
    "    e_pow_mul_increase = 3\n",
    "    \n",
    "    snr_theory = 20 * np.log10(2) * nbits + 10 * np.log10(1.5)\n",
    "    # Correct for signal's amplitude.\n",
    "    snr_theory += 20 * np.log10(a)\n",
    "    e_pow_theory = step_size**2 / 12\n",
    "    \n",
    "    if dither_opt.lower() == 'no':\n",
    "        y = quantize(x, levels)\n",
    "    elif dither_opt.lower() == 'subtractive':\n",
    "        e_pow_mul_increase = 1\n",
    "        y = quantize(x + d, levels) - d\n",
    "    elif dither_opt.lower() == 'non-subtractive':\n",
    "        y = quantize(x + d, levels)\n",
    "        snr_theory -= snr_reduction\n",
    "        e_pow_theory *= e_pow_mul_increase\n",
    "    else:\n",
    "        raise ValueError('Unknown dithering subtraction scheme')\n",
    "    \n",
    "    # Create uniform dither to serve as the ideal noise power reference.\n",
    "    d_rpdf = (np.random.random(len(t)) - 0.5) * step_size\n",
    "        \n",
    "    e = y - x\n",
    "    \n",
    "    # Compute the spectra of the quantizer's output and error.\n",
    "    _, f_n, Y_s = stft(y, win, hop_size)\n",
    "    _, _, E_s = stft(e, win, hop_size)\n",
    "    _, _, D_s = stft(d, win, hop_size)\n",
    "    _, _, R_s = stft(d_rpdf, win, hop_size)\n",
    "    Y = np.mean(np.abs(Y_s), axis=1)\n",
    "    E = np.mean(np.abs(E_s), axis=1)\n",
    "    D = np.mean(np.abs(D_s), axis=1)\n",
    "    R = np.mean(np.abs(R_s), axis=1)\n",
    "    # Convert normalized to absolute frequencies.\n",
    "    freqs = f_n * fs\n",
    "    \n",
    "    # Compute the stats.\n",
    "    e_mean = np.mean(e)\n",
    "    e_pow = np.mean(e**2)\n",
    "    d_pow = np.mean(d**2)\n",
    "    x_pow = np.mean(x**2)\n",
    "    r_pow = np.mean(d_rpdf**2)\n",
    "\n",
    "    snr = 10 * np.log10(x_pow / e_pow)\n",
    "    \n",
    "    # Extreme value for plotted vertical lines showing harmonics.\n",
    "    Y_max = 20 * np.log10(np.max(np.abs(Y)))\n",
    "    Y_min = 20 * np.log10(np.min(np.abs(Y)) + mu)\n",
    "    E_max = 20 * np.log10(np.max(np.abs(E)))\n",
    "    E_min = 20 * np.log10(np.min(np.abs(E)) + mu)\n",
    "    R_max = 20 * np.log10(np.max(np.abs(R)))\n",
    "    R_min = 20 * np.log10(np.min(np.abs(R)) + mu)\n",
    "    # Since we're plotting the theoretical noise PSD, account for them.\n",
    "    Y_max = np.maximum(Y_max, R_max)\n",
    "    Y_min = np.minimum(Y_min, R_min)\n",
    "    E_max = np.maximum(E_max, R_max)\n",
    "    E_min = np.minimum(E_min, R_min)\n",
    "    \n",
    "    # Harmonics of the sinusoid's frequency to show on plots.\n",
    "    harmonics = np.arange(f, fs/2, f)\n",
    "    \n",
    "    out_text_0 = ipw.Output()\n",
    "    out_text_0.layout = default_layout\n",
    "    out_text_1 = ipw.Output()\n",
    "    out_text_1.layout = default_layout\n",
    "    \n",
    "    with out_text_0:\n",
    "        print('Quantization step size: {:.4E}'.format(step_size))\n",
    "        print('Noise power (theory):   {:.4E}'.format(e_pow_theory))\n",
    "        print('Noise power:            {:.4E}'.format(e_pow))\n",
    "    with out_text_1:\n",
    "        print('Dither power: {:.4E}'.format(d_pow))\n",
    "        print('SNR (theory): {:.4f} dB'.format(snr_theory))\n",
    "        print('SNR:          {:.4f} dB'.format(snr))\n",
    "        \n",
    "    audio_out_0 = ipw.Output()\n",
    "    audio_out_1 = ipw.Output()\n",
    "    audio_out_2 = ipw.Output()\n",
    "    \n",
    "    with audio_out_0:\n",
    "        print('Original')\n",
    "        display(ipd.Audio(data=np.clip(x, -1, 1), \n",
    "                              rate=fs, normalize=False))\n",
    "    with audio_out_1:\n",
    "        print('Quantized')\n",
    "        display(ipd.Audio(data=np.clip(y, -1, 1), \n",
    "                              rate=fs, normalize=False))\n",
    "    with audio_out_2:\n",
    "        print('Quantization error')\n",
    "        display(ipd.Audio(data=np.clip(e, -1, 1), rate=fs, normalize=False))\n",
    "    \n",
    "    text_group = ipw.HBox([out_text_0, out_text_1])\n",
    "    audio_group = ipw.HBox([audio_out_0, audio_out_1, audio_out_2])\n",
    "    audio_group.layout = default_layout\n",
    "    \n",
    "    demo_out_2.clear_output()\n",
    "    \n",
    "    figure_out = ipw.Output()\n",
    "    figure_out.layout = default_layout\n",
    "\n",
    "    with figure_out:\n",
    "        plt.figure(figsize=(15, 6))\n",
    "\n",
    "        plt.subplot(2, 2, 1)\n",
    "        plt.plot(t[:nt], y[:nt], color='b')\n",
    "        plt.ylim([-1.1, 1.1])\n",
    "        plt.title('Quantizer\\'s output')\n",
    "        plt.ylabel('$y(t)$')\n",
    "        plt.grid()\n",
    "\n",
    "        plt.subplot(2, 2, 3)\n",
    "        plt.plot(t[:nt], e[:nt], color='b')\n",
    "        plt.xlabel('$t$ [s]')\n",
    "        plt.ylabel('$e(t)$')\n",
    "        plt.title('Quantization error')\n",
    "        plt.grid()\n",
    "\n",
    "        plt.subplot(2, 2, 2)\n",
    "        plt.vlines(harmonics, Y_min, Y_max, label='$f_0$ harmonics', \n",
    "                   colors='yellow', linestyles='dashed')\n",
    "        plt.plot(freqs, 20 * np.log10(np.abs(Y)+mu), \n",
    "                 color='blue', label='$Y(f)$')\n",
    "        plt.plot(freqs, 20 * np.log10(np.abs(R)+mu), \n",
    "                 color='red', label='$Ref. noise PSD$')\n",
    "        plt.ylabel('$Y(f)$ [dB]')\n",
    "        plt.title('Quantized signal\\'s spectrum')\n",
    "        plt.legend()\n",
    "        plt.grid()\n",
    "\n",
    "        plt.subplot(2, 2, 4)\n",
    "        plt.vlines(harmonics, E_min, E_max, label='$f_0$ harmonics', \n",
    "                   color='yellow', linestyles='dashed')\n",
    "        plt.plot(freqs, 20 * np.log10(np.abs(E)+mu), \n",
    "                 color='blue', label='$E(f)$')\n",
    "        plt.plot(freqs, 20 * np.log10(np.abs(R)+mu), \n",
    "                 color='red', label='$Ref. noise PSD$')\n",
    "        plt.ylabel('$E(f)$ [dB]')\n",
    "        plt.xlabel('$f$ [Hz]')\n",
    "        plt.title('Quantization error\\'s spectrum')\n",
    "        plt.legend()\n",
    "        plt.grid()\n",
    "\n",
    "        plt.tight_layout()\n",
    "\n",
    "        plt.show()\n",
    "        \n",
    "    with demo_out_2:\n",
    "        display(text_group)\n",
    "        display(audio_group)\n",
    "        display(figure_out)\n",
    "\n",
    "def click_dither(change):\n",
    "    update_dither(\n",
    "        a=a_fs_2.value, f=f_fs_2.value,\n",
    "        nbits=nbits_is_2.value,\n",
    "        dither_opt=dither_opt_dd_2.value, \n",
    "        win_type=win_type_dd_2.value,\n",
    "        fft_size=fft_size_dd_2.value)\n",
    "\n",
    "# Group widgets to have the desired looks.\n",
    "sliders_2 = ipw.HBox([a_fs_2, f_fs_2, nbits_is_2])\n",
    "sliders_2.layout = default_layout\n",
    "dropdowns0_2 = ipw.HBox([dither_opt_dd_2, win_type_dd_2, fft_size_dd_2]) \n",
    "dropdowns_2 = ipw.VBox([dropdowns0_2]) \n",
    "dropdowns_2.layout = default_layout\n",
    "controls_2 = ipw.VBox([sliders_2, dropdowns_2])\n",
    "controls_2.layout = default_layout\n",
    "run_button_2 = ipw.Button(description='Run')\n",
    "run_button_2.on_click(click_dither)"
   ]
  },
  {
   "cell_type": "code",
   "execution_count": 12,
   "metadata": {},
   "outputs": [
    {
     "data": {
      "application/vnd.jupyter.widget-view+json": {
       "model_id": "bb8ffcb6f8204c1980c2c3c24dfd86d7",
       "version_major": 2,
       "version_minor": 0
      },
      "text/plain": [
       "VBox(children=(VBox(children=(HBox(children=(FloatSlider(value=0.5, description='$a$', max=1.0, step=0.001), F…"
      ]
     },
     "metadata": {},
     "output_type": "display_data"
    }
   ],
   "source": [
    "display(ipw.VBox([controls_2, run_button_2, demo_out_2]))\n",
    "click_dither(None)"
   ]
  },
  {
   "cell_type": "markdown",
   "metadata": {},
   "source": [
    "## A closer look in the time domain"
   ]
  },
  {
   "cell_type": "code",
   "execution_count": 13,
   "metadata": {},
   "outputs": [],
   "source": [
    "def quantize_dither(x, M):\n",
    "    return quantize(x + tpdf(M, len(x)), M)"
   ]
  },
  {
   "cell_type": "code",
   "execution_count": 14,
   "metadata": {},
   "outputs": [],
   "source": [
    "%%capture out\n",
    "\n",
    "pts = 1000\n",
    "x = 0.6 * np.sin(2 * np.pi * np.linspace(0.1, 1.5, pts))\n",
    "\n",
    "M = 4\n",
    "qx = [quantize(x, M), quantize_dither(x, M)]\n",
    "\n",
    "a, delay, gain = 0.99, 80, 1.1\n",
    "fqx = [gain * signal.lfilter([1 - a], [1, -a], y)[delay:] for y in qx ]\n",
    "\n",
    "fig, ax = plt.subplots(2, figsize=(13,7))\n",
    "ax[0].set_title(\"quantization without dither\");\n",
    "ax[1].set_title(\"quantization with dither\");\n",
    "\n",
    "for n in (0, 1):\n",
    "    ax[n].plot(x[:-delay], label=\"original signal\")\n",
    "    ax[n].plot(qx[n][:-delay], label=\"quantized signal\", drawstyle=\"steps-pre\", alpha=0.7)\n",
    "    ax[n].plot(fqx[n], label=\"filtered quantized signal\")\n",
    "    ax[n].legend(loc=\"lower right\")\n",
    "    ax[n].get_xaxis().set_visible(False)"
   ]
  },
  {
   "cell_type": "code",
   "execution_count": 15,
   "metadata": {},
   "outputs": [
    {
     "data": {
      "image/png": "[encoded data removed]",
      "text/plain": [
       "<Figure size 936x504 with 2 Axes>"
      ]
     },
     "metadata": {
      "needs_background": "light"
     },
     "output_type": "display_data"
    }
   ],
   "source": [
    "out.show();"
   ]
  },
  {
   "cell_type": "markdown",
   "metadata": {},
   "source": [
    "## Requantizing the Bolero\n",
    "\n",
    "Let's repeat the requantization experiment with the initial part of Bolero, this time with dithering:"
   ]
  },
  {
   "cell_type": "code",
   "execution_count": 16,
   "metadata": {},
   "outputs": [
    {
     "data": {
      "application/vnd.jupyter.widget-view+json": {
       "model_id": "712e64bd32db4727a2dcccd68d1ec9c7",
       "version_major": 2,
       "version_minor": 0
      },
      "text/plain": [
       "HBox(children=(Output(), Output(), Output()))"
      ]
     },
     "metadata": {},
     "output_type": "display_data"
    }
   ],
   "source": [
    "clips = {}\n",
    "for name in ['boleroA',]:\n",
    "    sf, audio = wavfile.read('snd/' + name + '.wav')\n",
    "    clips['sf'], clips[name] = sf, audio / 32767.0\n",
    "\n",
    "multiplay(clips['sf'], \n",
    "          [quantize(clips['boleroA'], 2 ** 16), quantize(clips['boleroA'], 2 ** 8), quantize_dither(clips['boleroA'], 2 ** 8)], \n",
    "          ['16 bits', '8 bits, no dithering', '8 bits, dithering'])"
   ]
  },
  {
   "cell_type": "markdown",
   "metadata": {
    "slideshow": {
     "slide_type": "slide"
    }
   },
   "source": [
    "# Noise shaping\n",
    "\n",
    "<img src=\"img/nsdq.png\"  width=\"400\" style=\"float: right; margin: 0 30px 0;\">\n",
    "\n",
    "Recap for non-subtractive dither with triangular dither PDF:\n",
    " * error dependent on input but white PSD\n",
    " * $P_e(\\omega) = \\sigma_e^2 = \\Delta^2/4$"
   ]
  },
  {
   "cell_type": "markdown",
   "metadata": {
    "slideshow": {
     "slide_type": "slide"
    }
   },
   "source": [
    "## Feeding back the error\n",
    "<img src=\"img/quantizer_noise_shape.png\" width=400 style=\"float: right; margin: 0 30px 0;\">\n",
    "\n",
    " * $x'[n]$ input to dithering quantizer $Q$\n",
    " * error $e[n] = y[n] - x'[n]$ \n",
    " * $x'[n] = x[n] - (h \\ast e)[n]$\n",
    " * $Y(z) = X(z) + (1 - H(z))E(z)$\n",
    "\n",
    "Quantization error is now a **filtered** white noise process with PSD\n",
    "\n",
    "$$\n",
    "   P_e(\\omega) = (\\Delta^2/4)\\, |1-H(e^{j\\omega})|^2\n",
    "$$"
   ]
  },
  {
   "cell_type": "markdown",
   "metadata": {
    "slideshow": {
     "slide_type": "slide"
    }
   },
   "source": [
    "### Filters specifications\n",
    "\n",
    "Requirements for realizability:\n",
    " * $H(z)$ causal\n",
    " * $h[0] = 0$, i.e. at least one-step delay in the feedback path \n",
    "\n",
    "Goal:\n",
    " * make the noise less _audible_ perceptually"
   ]
  },
  {
   "cell_type": "markdown",
   "metadata": {
    "slideshow": {
     "slide_type": "slide"
    }
   },
   "source": [
    "### Perceptual noise shaping\n",
    "<img src=\"https://upload.wikimedia.org/wikipedia/commons/4/49/Lindos4.svg\" width=360 style=\"float: right;\">\n",
    "\n",
    "Human auditory system exhibits a frequency-dependent sensitivity, as per experimental ([equal loudness contours](https://en.wikipedia.org/wiki/Equal-loudness_contour)).\n",
    "\n",
    " * $W(e^{j\\omega})$ : approximate $15$-phon equal loudness contour\n",
    " * optimal filter: $|1-H(e^{j\\omega})|^2 = \\frac{w}{W(e^{j\\omega})} $\n",
    " \n",
    "Remarks: \n",
    " * attenuating the noise in some frequency bands will inevitably amplify it at others\n",
    " * the total quantization noise power with a noise shaping filter will always increase compared to no noise shaping\n",
    " * as long as the noise is less audible, we're good"
   ]
  },
  {
   "cell_type": "markdown",
   "metadata": {},
   "source": [
    "Simple FIR approximation to the inverse of the 15-phon curve, as found [in Lipshitz's seminal paper](http://www2.ece.rochester.edu/courses/ECE472/Site/Assignments/Entries/2009/1/15_Week_1_files/Lipshitz_1991.pdf)"
   ]
  },
  {
   "cell_type": "code",
   "execution_count": 17,
   "metadata": {
    "tags": []
   },
   "outputs": [
    {
     "data": {
      "image/png": "[encoded data removed]",
      "text/plain": [
       "<Figure size 1008x288 with 1 Axes>"
      ]
     },
     "metadata": {
      "needs_background": "light"
     },
     "output_type": "display_data"
    }
   ],
   "source": [
    "PTS = 1024\n",
    "plt.semilogx(np.linspace(0, 22050, PTS), 20 * np.log10(np.abs(np.fft.fft([1.726, -0.7678, 0.2709], 2 * PTS)[:PTS])))\n",
    "plt.grid()"
   ]
  },
  {
   "cell_type": "markdown",
   "metadata": {
    "slideshow": {
     "slide_type": "slide"
    }
   },
   "source": [
    "## Example: dithered quantization with noise shaping"
   ]
  },
  {
   "cell_type": "code",
   "execution_count": 18,
   "metadata": {},
   "outputs": [],
   "source": [
    "def quantize_ns(x, M, dither, b_h, a_h):\n",
    "    a_h = np.append(a_h, 0) if len(a_h) == 1 else a_h\n",
    "    y = np.zeros(x.shape)\n",
    "    x_i = np.zeros(len(b_h))\n",
    "    y_i = np.zeros(len(a_h)-1)\n",
    "    for i, s in enumerate(x):\n",
    "        h_o = (np.dot(x_i, b_h) - np.dot(y_i, a_h[1:])) / a_h[0]\n",
    "        s_d = s - h_o\n",
    "        y[i] = quantize(s_d + dither[i], M)\n",
    "        e = y[i] - s_d\n",
    "        x_i = np.append(e, x_i[0:-1])\n",
    "        y_i = np.append(h_o, y_i[0:-1])\n",
    "    return y"
   ]
  },
  {
   "cell_type": "code",
   "execution_count": 21,
   "metadata": {
    "jupyter": {
     "source_hidden": true
    },
    "slideshow": {
     "slide_type": "skip"
    },
    "tags": []
   },
   "outputs": [],
   "source": [
    "# Sampling frequency in Hz.\n",
    "fs = 44100\n",
    "# Signal duration in seconds.\n",
    "duration = 4\n",
    "\n",
    "# Number of samples for which we plot the time-domain signals.\n",
    "nt = 600\n",
    "# Regularization constant to avoid taking a log of zero.\n",
    "mu = 1e-6\n",
    "\n",
    "# Define the noise shaping filter. From Lipschitz's paper, filter #5\n",
    "a_h = np.array([1])\n",
    "b_h = np.array([1.726, -0.7678, 0.2709])\n",
    "\n",
    "# Define the widgets to control the demo parameters.\n",
    "win_type_dd_5 = ipw.Dropdown(options=['rect', 'hanning', 'hamming'],\n",
    "    value='hanning', description='Window type',\n",
    "    disabled=False)\n",
    "\n",
    "fft_size_dd_5 = ipw.Dropdown(\n",
    "    options=[256, 512, 1024, 2048, 4096, 8192, 16384],\n",
    "    value=4096, description='FFT size',\n",
    "    disabled=False)\n",
    "\n",
    "a_fs_5 = ipw.FloatSlider(\n",
    "    min=0, max=1, step=0.001, value=0.5, description='$a$')\n",
    "\n",
    "f_fs_5 = ipw.FloatSlider(\n",
    "    min=100, max=5000, step=10, value=1500, description='$f_0$')\n",
    "\n",
    "nbits_is_5 = ipw.IntSlider(\n",
    "    min=1, max=24, step=1, value=4, description='$n_{\\it bits}$')\n",
    "\n",
    "demo_out_5 = ipw.Output()\n",
    "\n",
    "default_layout = ipw.Layout(\n",
    "    border='solid 1px black',\n",
    "    margin='0px 10px 10px 0px',\n",
    "    padding='5px 5px 5px 5px')\n",
    "\n",
    "def update_ns_dither(\n",
    "    a, f, T, fs, nbits, \n",
    "    win_type='rect', fft_size=4096):\n",
    "    \n",
    "    t = np.arange(0, T, 1/fs)\n",
    "    x = a * np.sin(2 * np.pi * f * t)\n",
    "    step_size = 2 / 2**nbits\n",
    "    \n",
    "    # Prepare the windowing function.\n",
    "    win = stft_window(fft_size, fft_size, win_type=win_type)\n",
    "    # Work with a 50% overlap.\n",
    "    hop_size = fft_size // 2\n",
    "    \n",
    "    d = tpdf(2**nbits, len(t))\n",
    "    e_pow_theory = step_size**2 / 4\n",
    "\n",
    "    y_nns = quantize_dither(x, 2**nbits)\n",
    "    #plt.plot(y_nns)\n",
    "    y_ns = quantize_ns(x, 2**nbits, d, b_h, a_h)\n",
    "    e_ns = y_ns - x\n",
    "    e_nns = y_nns - x\n",
    "\n",
    "    # Compute the quantized signal's spectrum.\n",
    "    _, f_n, Y_ns_s = stft(y_ns, win, hop_size)\n",
    "    Y_ns = np.mean(np.abs(Y_ns_s), axis=1)\n",
    "    _, _, Y_nns_s = stft(y_nns, win, hop_size)\n",
    "    Y_nns = np.mean(np.abs(Y_nns_s), axis=1)\n",
    "    # Compute the error spectra.\n",
    "    _, _, E_ns_s = stft(e_ns, win, hop_size)\n",
    "    E_ns = np.mean(np.abs(E_ns_s), axis=1)\n",
    "    _, _, E_nns_s = stft(e_nns, win, hop_size)\n",
    "    E_nns = np.mean(np.abs(E_nns_s), axis=1)\n",
    "    \n",
    "    freqs = f_n * fs\n",
    "    \n",
    "    # Extreme value for plotted vertical lines showing harmonics.\n",
    "    Y_max = 20 * np.log10(np.max(np.abs(Y_ns)))\n",
    "    Y_min = 20 * np.log10(np.min(np.abs(Y_ns)) + mu)\n",
    "    E_max = 20 * np.log10(np.max(np.abs(E_ns)))\n",
    "    E_min = 20 * np.log10(np.min(np.abs(E_ns)) + mu)\n",
    "    # Since we're plotting the theoretical noise PSD, account for them.\n",
    "    Y_max = np.maximum(Y_max, 10*np.log10(e_pow_theory*fft_size))\n",
    "    Y_min = np.minimum(Y_min, 10*np.log10(e_pow_theory*fft_size))\n",
    "    E_max = np.maximum(E_max, 10*np.log10(e_pow_theory*fft_size))\n",
    "    E_min = np.minimum(E_min, 10*np.log10(e_pow_theory*fft_size))\n",
    "    \n",
    "    audio_out_0 = ipw.Output()\n",
    "    audio_out_1 = ipw.Output()\n",
    "    audio_out_2 = ipw.Output()\n",
    "    \n",
    "    with audio_out_0:\n",
    "        print('Original')\n",
    "        display(ipd.Audio(data=np.clip(x, -1, 1), rate=fs, normalize=False))\n",
    "    with audio_out_1:\n",
    "        print('Quantized w/ dither')\n",
    "        display(ipd.Audio(data=np.clip(y_nns, -1, 1), rate=fs, normalize=False))\n",
    "    with audio_out_2:\n",
    "        print('Quantized w/ dither and noise shaping')\n",
    "        display(ipd.Audio(data=np.clip(y_ns, -1, 1), rate=fs, normalize=False))\n",
    "        \n",
    "    audio_group = ipw.HBox([audio_out_0, audio_out_1, audio_out_2])\n",
    "    audio_group.layout = default_layout\n",
    "    \n",
    "    demo_out_5.clear_output()\n",
    "    \n",
    "    figure_out = ipw.Output()\n",
    "    figure_out.layout = default_layout\n",
    "\n",
    "    with figure_out:\n",
    "        plt.figure(figsize=(15, 6))\n",
    "\n",
    "        plt.subplot(2, 2, 1)\n",
    "        plt.plot(t[:nt], y_ns[:nt], color='b')\n",
    "        plt.ylabel('$y(t)$')\n",
    "        plt.title('Quantizer\\'s output with noise shaping', fontsize=12)\n",
    "        plt.ylim([-1.1, 1.1])\n",
    "        plt.grid()\n",
    "\n",
    "        plt.subplot(2, 2, 3)\n",
    "        plt.plot(t[:nt], e_ns[:nt], color='b')\n",
    "        plt.xlabel('$t$ [s]')\n",
    "        plt.ylabel('$e(t)$')\n",
    "        plt.title('Quantization error with noise shaping', fontsize=12)\n",
    "        plt.grid()\n",
    "\n",
    "        plt.subplot(2, 2, 2)\n",
    "        plt.plot(freqs, 20*np.log10(np.abs(Y_ns)+mu), color='blue', label='w/ NS')\n",
    "        plt.plot(freqs, 20*np.log10(np.abs(Y_nns)+mu), color='green', label='w/o NS')\n",
    "        plt.ylabel('$Y(f)$ [dB]')\n",
    "        plt.title('Quantized signal\\'s spectrum')\n",
    "        plt.legend()\n",
    "        plt.grid()\n",
    "\n",
    "        plt.subplot(2, 2, 4)\n",
    "        plt.plot(freqs, 20*np.log10(np.abs(E_ns)+mu), \n",
    "                 color='blue', label='w/ NS')\n",
    "        plt.plot(freqs, 20*np.log10(np.abs(E_nns)+mu),\n",
    "                 color='green', label='w/o NS')\n",
    "        plt.xlabel('$f$ [H]')\n",
    "        plt.ylabel('$E(f)$ [dB]')\n",
    "        plt.title('Quantization error\\'s spectrum')\n",
    "        plt.legend()\n",
    "        plt.grid()\n",
    "\n",
    "        plt.tight_layout()\n",
    "        plt.show()\n",
    "        \n",
    "    with demo_out_5:\n",
    "        display(audio_group)\n",
    "        display(figure_out)\n",
    "        \n",
    "def click_ns_dither(change):\n",
    "    update_ns_dither(\n",
    "        a=a_fs_5.value, f=f_fs_5.value,\n",
    "        nbits=nbits_is_5.value,\n",
    "        T=duration, fs=fs,\n",
    "        win_type=win_type_dd_5.value, \n",
    "        fft_size=fft_size_dd_5.value)\n",
    "\n",
    "# Group widgets to have the desired looks.\n",
    "sliders_5 = ipw.HBox([a_fs_5, f_fs_5, nbits_is_5])\n",
    "sliders_5.layout = default_layout\n",
    "dropdowns1_5 = ipw.HBox([win_type_dd_5, fft_size_dd_5])\n",
    "dropdowns_5 = ipw.VBox([dropdowns1_5])\n",
    "dropdowns_5.layout = default_layout\n",
    "controls_5 = ipw.VBox([sliders_5, dropdowns_5])\n",
    "controls_5.layout = default_layout\n",
    "run_button_5 = ipw.Button(description='Run')\n",
    "run_button_5.on_click(click_ns_dither)"
   ]
  },
  {
   "cell_type": "code",
   "execution_count": 22,
   "metadata": {},
   "outputs": [
    {
     "data": {
      "application/vnd.jupyter.widget-view+json": {
       "model_id": "9e81a37b5c03441babb7f968f1a12e46",
       "version_major": 2,
       "version_minor": 0
      },
      "text/plain": [
       "VBox(children=(VBox(children=(HBox(children=(FloatSlider(value=0.5, description='$a$', max=1.0, step=0.001), F…"
      ]
     },
     "metadata": {},
     "output_type": "display_data"
    }
   ],
   "source": [
    "display(ipw.VBox([controls_5, run_button_5, demo_out_5]))\n",
    "click_ns_dither(None)"
   ]
  },
  {
   "cell_type": "code",
   "execution_count": null,
   "metadata": {},
   "outputs": [],
   "source": []
  }
 ],
 "metadata": {
  "celltoolbar": "Slideshow",
  "kernelspec": {
   "display_name": "Python 3",
   "language": "python",
   "name": "python3"
  },
  "language_info": {
   "codemirror_mode": {
    "name": "ipython",
    "version": 3
   },
   "file_extension": ".py",
   "mimetype": "text/x-python",
   "name": "python",
   "nbconvert_exporter": "python",
   "pygments_lexer": "ipython3",
   "version": "3.8.8"
  },
  "toc-autonumbering": true
 },
 "nbformat": 4,
 "nbformat_minor": 4
}
